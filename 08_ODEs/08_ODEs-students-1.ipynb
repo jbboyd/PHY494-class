{
 "cells": [
  {
   "cell_type": "markdown",
   "metadata": {
    "slideshow": {
     "slide_type": "slide"
    }
   },
   "source": [
    "# 08 Ordinary Differential Equations (ODEs) — Student Copy\n",
    "\n",
    "[ODE](http://mathworld.wolfram.com/OrdinaryDifferentialEquation.html)s describe many phenomena in physics. They describe the changes of a **dependent variable** $y(t)$ as a function of a **single independent variable** (e.g. $t$ or $x$)."
   ]
  },
  {
   "cell_type": "markdown",
   "metadata": {
    "collapsed": true,
    "slideshow": {
     "slide_type": "fragment"
    }
   },
   "source": [
    "An ODE of **order** $n$\n",
    "\n",
    "$$\n",
    "F(t, y^{(0)}, y^{(1)}, ..., y^{(n)}) = 0\n",
    "$$\n",
    "\n",
    "contains derivatives $y^{(k)}(t) \\equiv y^{(k)} \\equiv \\frac{d^{k}y(t)}{dt^{k}}$ up to the $n$-th derivative (and $y^{(0)} \\equiv y$). \n"
   ]
  },
  {
   "cell_type": "markdown",
   "metadata": {
    "slideshow": {
     "slide_type": "subslide"
    }
   },
   "source": [
    "### Initial and boundary conditions\n",
    "\n",
    "* $n$ **initial conditions** are needed to *uniquely determine* the solution of a $n$-th order ODE, e.g, initial position and velocities. "
   ]
  },
  {
   "cell_type": "markdown",
   "metadata": {
    "slideshow": {
     "slide_type": "fragment"
    }
   },
   "source": [
    "* **Boundary conditions** (values of solution on domain boundries) can additionaly restrict solutions but the resulting *eigenvalue problems* are more difficult, e.g, wavefunction goes towards 0 for $\\pm\\infty$."
   ]
  },
  {
   "cell_type": "markdown",
   "metadata": {
    "slideshow": {
     "slide_type": "subslide"
    }
   },
   "source": [
    "### Linear ODEs\n",
    "A **linear** ODE contains no higher powers than 1 of any of the $y^{(k)}$. \n",
    "\n",
    "*Superposition principle*: Linear combinations of solutions are also solutions."
   ]
  },
  {
   "cell_type": "markdown",
   "metadata": {
    "slideshow": {
     "slide_type": "fragment"
    }
   },
   "source": [
    "#### Example: First order linear ODE\n",
    "\n",
    "\\begin{align}\n",
    "\\frac{dy}{dt} &= f(t)y + g(t)\\\\\n",
    "y^{(1)} &= f(t)y + g(t)\\\\\n",
    "% y^{(1)} - f(t)y - g(t) &= 0\n",
    "\\end{align}\n",
    "\n",
    "##### Radioactive decay\n",
    "$$\n",
    "\\frac{dN}{dt} = -k N\n",
    "$$"
   ]
  },
  {
   "cell_type": "markdown",
   "metadata": {
    "slideshow": {
     "slide_type": "subslide"
    }
   },
   "source": [
    "\n",
    "### Non-linear ODEs\n",
    "**Non-linear** ODEs can contain any powers in the dependent variable and its derivatives.\n",
    "\n",
    "No superposition of solutions. Often impossible to solve analytically."
   ]
  },
  {
   "cell_type": "markdown",
   "metadata": {
    "slideshow": {
     "slide_type": "fragment"
    }
   },
   "source": [
    "#### Example: Second order (general) ODE\n",
    "\\begin{gather}\n",
    "\\frac{d^2 y}{dt^2} + \\lambda(t) \\frac{dy}{dt} = f\\left(t, y, \\frac{dy}{dt}\\right)\\\\\n",
    "\\end{gather}\n",
    "\n",
    "##### Newton's equations of motion\n",
    "$$\n",
    "m\\frac{d^2 x}{dt^2} = F(x) + F_\\text{ext}(x, t) \\quad \\text{with} \n",
    "\\quad F(x) = -\\frac{dU}{dx}\n",
    "$$\n",
    "(Force is often derived from a potential energy $U(x)$.)"
   ]
  },
  {
   "cell_type": "markdown",
   "metadata": {
    "slideshow": {
     "slide_type": "subslide"
    }
   },
   "source": [
    "## Partial differential equations (PDEs)\n",
    "* more than one independent variable (e.g. $x$ and $t$)\n",
    "* partial derivatives\n",
    "* much more difficult than ODEs\n",
    "\n",
    "#### Example: Schrödinger equation (Quantum Mechanics)\n",
    "$$\n",
    "i\\hbar \\frac{\\partial\\psi(\\mathbf{x}, t)}{\\partial t} = -\\frac{\\hbar^2}{2m} \n",
    "   \\left(\\frac{\\partial^2 \\psi}{\\partial x^2} +  \n",
    "         \\frac{\\partial^2 \\psi}{\\partial y^2} + \n",
    "         \\frac{\\partial^2 \\psi}{\\partial z^2}\n",
    "   \\right) + V(\\mathbf{x})\\, \\psi(\\mathbf{x}, t)\n",
    "$$"
   ]
  },
  {
   "cell_type": "markdown",
   "metadata": {
    "slideshow": {
     "slide_type": "slide"
    }
   },
   "source": [
    "## Harmonic and anharmonic oscillator\n",
    "* particle with mass $m$ connected to a spring\n",
    "* spring described by a harmonic potential or anharmonic ones in the displacements from equilibrium $x$\n",
    "\\begin{align}\n",
    "U_1(x) &= \\frac{1}{2} k x^2, \\quad k=1\\\\\n",
    "U_2(x) &= \\frac{1}{2} k x^2 \\left(1 - \\frac{2}{3}\\alpha x\\right), \\quad k=1,\\ \\alpha=\\frac{1}{2}\\\\\n",
    "U_3(x) &= \\frac{1}{p} k x^p, \\quad k=1,\\ p=6\n",
    "\\end{align}"
   ]
  },
  {
   "cell_type": "markdown",
   "metadata": {
    "slideshow": {
     "slide_type": "fragment"
    }
   },
   "source": [
    "1. What do these potentials look like? Sketch or plot.\n",
    "2. Calculate the forces."
   ]
  },
  {
   "cell_type": "markdown",
   "metadata": {
    "slideshow": {
     "slide_type": "subslide"
    }
   },
   "source": [
    "#### Potentials \n",
    "Complete the code below by replacing `None` with appropriate expressions:"
   ]
  },
  {
   "cell_type": "code",
   "execution_count": 10,
   "metadata": {
    "collapsed": true,
    "slideshow": {
     "slide_type": "-"
    }
   },
   "outputs": [],
   "source": [
    "import numpy as np\n",
    "\n",
    "def U1(x, k=1):\n",
    "    return 0.5*k*(x**2)\n",
    "\n",
    "def U2(x, k=1, alpha=0.5):\n",
    "    return .5*k*(x**2)*(1 - (2/3)*alpha*x)\n",
    "\n",
    "def U3(x, k=1, p=6):\n",
    "    return (1/p)*k*(x**p)"
   ]
  },
  {
   "cell_type": "code",
   "execution_count": 11,
   "metadata": {
    "collapsed": false
   },
   "outputs": [],
   "source": [
    "import matplotlib\n",
    "import matplotlib.pyplot as plt\n",
    "matplotlib.style.use('seaborn-talk')\n",
    "%matplotlib inline"
   ]
  },
  {
   "cell_type": "code",
   "execution_count": 12,
   "metadata": {
    "collapsed": false,
    "slideshow": {
     "slide_type": "subslide"
    }
   },
   "outputs": [
    {
     "data": {
      "text/plain": [
       "<matplotlib.legend.Legend at 0x10b5aee10>"
      ]
     },
     "execution_count": 12,
     "metadata": {},
     "output_type": "execute_result"
    },
    {
     "data": {
      "image/png": "[encoded data removed]",
      "text/plain": [
       "<matplotlib.figure.Figure at 0x10b63e4a8>"
      ]
     },
     "metadata": {},
     "output_type": "display_data"
    }
   ],
   "source": [
    "X = np.linspace(-3, 3, 100)\n",
    "ax = plt.subplot(1,1,1)\n",
    "ax.plot(X, U1(X), label=r\"$U_1$\")\n",
    "ax.plot(X, U2(X), label=r\"$U_2$\")\n",
    "ax.plot(X, U3(X), label=r\"$U_3$\")\n",
    "ax.set_ylim(0, 10)\n",
    "ax.legend(loc=\"best\")"
   ]
  },
  {
   "cell_type": "code",
   "execution_count": 33,
   "metadata": {
    "collapsed": false
   },
   "outputs": [
    {
     "data": {
      "text/plain": [
       "<matplotlib.legend.Legend at 0x10cd7bfd0>"
      ]
     },
     "execution_count": 33,
     "metadata": {},
     "output_type": "execute_result"
    },
    {
     "data": {
      "image/png": "[encoded data removed]",
      "text/plain": [
       "<matplotlib.figure.Figure at 0x10cca9860>"
      ]
     },
     "metadata": {},
     "output_type": "display_data"
    }
   ],
   "source": [
    "def D_ed(y, t, h):\n",
    "    \"\"\"Extended difference.\"\"\"\n",
    "    return (8*(y(t + h/4) - y(t - h/4)) - (y(t + h/2) - y(t - h/2)))/(3*h)\n",
    "\n",
    "\n",
    "\n",
    "F1 = -D_ed(U1, X, 0.01)\n",
    "F2 = -D_ed(U2, X, 0.01)\n",
    "F3 = -D_ed(U3, X, 0.01)\n",
    "\n",
    "ax = plt.subplot(1,1,1)\n",
    "ax.plot(X, F1, label=r\"$F_1$\")\n",
    "ax.plot(X, F2, label=r\"$F_2$\")\n",
    "ax.plot(X, F3, label=r\"$F_3$\")\n",
    "ax.set_ylim(-10, 10)\n",
    "ax.legend(loc=\"best\")"
   ]
  },
  {
   "cell_type": "markdown",
   "metadata": {
    "slideshow": {
     "slide_type": "subslide"
    }
   },
   "source": [
    "#### Forces \n",
    "\\begin{align}\n",
    "F_1(x) &= -kx\\\\\n",
    "F_2(x) &= -(kx+k\\alpha x^2)\\\\\n",
    "F_3(x) &= -kx^{p-1}\n",
    "\\end{align}"
   ]
  },
  {
   "cell_type": "markdown",
   "metadata": {
    "slideshow": {
     "slide_type": "slide"
    }
   },
   "source": [
    "## ODE Algorithms\n",
    "Basic idea:\n",
    "\n",
    "1. Start with initial conditions, $y_0 \\equiv y(t=0)$\n",
    "2. Use $\\frac{dy}{dt} = f(t, y)$ (the RHS!) to advance solution a small step $h$ forward in time: $y(t=h) \\equiv y_1$\n",
    "3. Repeat with $y_1$ to obtain $y_2 \\equiv y(t=2h)$... and for all future values of $t$."
   ]
  },
  {
   "cell_type": "markdown",
   "metadata": {
    "slideshow": {
     "slide_type": "fragment"
    }
   },
   "source": [
    "Possible issues\n",
    "* small differences: subtractive cancelation and round-off error accumulation\n",
    "* extrapolation: numerical \"solution\" can deviate wildly from exact\n",
    "* possibly need adaptive $h$"
   ]
  },
  {
   "cell_type": "markdown",
   "metadata": {
    "slideshow": {
     "slide_type": "subslide"
    }
   },
   "source": [
    "### Euler's rule\n",
    "Simple: forward difference\n",
    "\n",
    "\\begin{align}\n",
    "f(t, y) = \\frac{dy(t)}{dt} &\\approx \\frac{y(t_{n+1}) - y(t_n)}{h}\\\\\n",
    "y_{n+1} &\\approx y_n + h f(t_n, y_n) \\quad \\text{with} \\quad y_n := y(t_n)\n",
    "\\end{align}"
   ]
  },
  {
   "cell_type": "markdown",
   "metadata": {
    "slideshow": {
     "slide_type": "fragment"
    }
   },
   "source": [
    "Error will be $\\mathcal{O}(h^2)$ (bad!)."
   ]
  },
  {
   "cell_type": "markdown",
   "metadata": {
    "slideshow": {
     "slide_type": "fragment"
    }
   },
   "source": [
    "Also: what if we have a second order ODE ?!?! We only used $dy/dt$."
   ]
  },
  {
   "cell_type": "markdown",
   "metadata": {
    "slideshow": {
     "slide_type": "slide"
    }
   },
   "source": [
    "### Standard (dynamic) form of ODEs\n",
    "1 ODE of *any order* $n$ $\\rightarrow$ $n$ coupled simultaneous first-order ODEs in $n$ unknowns  $y^{(0)}, \\dots, y^{(n-1)}$:\n",
    "\n",
    "\\begin{align}\n",
    "\\frac{dy^{(0)}}{dt} &= f^{(0)}(t, y^{(0)}, \\dots, y^{(n-1)})\\\\\n",
    "\\frac{dy^{(1)}}{dt} &= f^{(1)}(t, y^{(0)}, \\dots, y^{(n-1)})\\\\\n",
    "\\vdots &  \\\\\n",
    "\\frac{dy^{(n-1)}}{dt} &= f^{(n-1)}(t, y^{(0)}, \\dots, y^{(n-1)})\\\\\n",
    "\\end{align}"
   ]
  },
  {
   "cell_type": "markdown",
   "metadata": {
    "slideshow": {
     "slide_type": "subslide"
    }
   },
   "source": [
    "In $n$-dimensional vector notation:\n",
    "\n",
    "\\begin{align}\n",
    "\\frac{d\\mathbf{y}(t)}{dt} &= \\mathbf{f}(t, \\mathbf{y})\\\\\n",
    "\\mathbf{y} &= \\left(\\begin{array}{c}\n",
    "  y^{(0)}(t) \\\\\n",
    "  y^{(1)}(t) \\\\\n",
    "  \\vdots \\\\\n",
    "  y^{(n-1)}(t)\n",
    "  \\end{array}\\right),\n",
    "\\quad\n",
    "\\mathbf{f} = \\left(\\begin{array}{c}\n",
    "  f^{(0)}(t, \\mathbf{y}) \\\\\n",
    "  f^{(1)}(t, \\mathbf{y}) \\\\\n",
    "  \\vdots \\\\\n",
    "  f^{(n-1)}(t, \\mathbf{y})\n",
    "  \\end{array}\\right)\n",
    "\\end{align}"
   ]
  },
  {
   "cell_type": "markdown",
   "metadata": {
    "slideshow": {
     "slide_type": "subslide"
    }
   },
   "source": [
    "### Example: Convert Newton's EOMs to standard form\n",
    "\n",
    "$$\n",
    "\\frac{d^2 x}{dt^2} = m^{-1} F\\Big(t, x, \\frac{dx}{dt}\\Big)\n",
    "$$"
   ]
  },
  {
   "cell_type": "markdown",
   "metadata": {
    "slideshow": {
     "slide_type": "fragment"
    }
   },
   "source": [
    "RHS may *not contain any explicit derivatives* but components of $\\mathbf{y}$ can represent derivatives.\n",
    "* position $x$ as first dependent variable $y^{(0)}$ (as usual).\n",
    "* velocity $dx/dt$ as second dependent variable $y^{(1)}$\n",
    "\n",
    "$$\n",
    "y^{(0)}(t) := x(t), \\quad y^{(1)}(t) := \\frac{dx}{dt} = \\frac{dy^{(0)}}{dt}\n",
    "$$"
   ]
  },
  {
   "cell_type": "markdown",
   "metadata": {
    "slideshow": {
     "slide_type": "subslide"
    }
   },
   "source": [
    "One 2nd order ODE \n",
    "\n",
    "$$\n",
    "\\frac{d^2 x}{dt^2} = m^{-1} F\\Big(t, x, \\frac{dx}{dt}\\Big)\n",
    "$$\n",
    "\n",
    "to two simultaneous 1st order ODEs:\n",
    "\n",
    "\\begin{align}\n",
    "\\frac{dy^{(0)}}{dt} &= y^{(1)}(t)\\\\\n",
    "\\frac{dy^{(1)}}{dt} &= m^{-1} F\\Big(t, y^{(0)}, y^{(1)}\\Big)\n",
    "\\end{align}\n"
   ]
  },
  {
   "cell_type": "markdown",
   "metadata": {
    "slideshow": {
     "slide_type": "subslide"
    }
   },
   "source": [
    "\\begin{align}\n",
    "\\frac{d\\mathbf{y}(t)}{dt} &= \\mathbf{f}(t, \\mathbf{y})\\\\\n",
    "\\mathbf{y} &= \\left(\\begin{array}{c}\n",
    "     y^{(0)} \\\\\n",
    "     y^{(1)}\n",
    "  \\end{array}\\right) =\n",
    "  \\left(\\begin{array}{c}\n",
    "     x(t) \\\\\n",
    "     \\frac{dx}{dt}\n",
    "  \\end{array}\\right),\\\\\n",
    "\\mathbf{f} &= \\left(\\begin{array}{c}\n",
    "    y^{(1)}(t) \\\\\n",
    "    m^{-1} F\\Big(t, y^{(0)}, y^{(1)}\\Big)\n",
    "  \\end{array}\\right) = \n",
    "  \\left(\\begin{array}{c}\n",
    "    \\frac{dx}{dt} \\\\\n",
    "    m^{-1} F\\Big(t, x(t), \\frac{dx}{dt}\\Big)\n",
    "  \\end{array}\\right)\n",
    "\\end{align}"
   ]
  },
  {
   "cell_type": "markdown",
   "metadata": {
    "slideshow": {
     "slide_type": "subslide"
    }
   },
   "source": [
    "##### 1D harmonic oscillator in standard form\n",
    "With $F_1 = -k x$:\n",
    "$$\n",
    "\\frac{d^2 x}{dt^2} = F_\\text{ext}(x, t) - k x\n",
    "$$\n",
    "convert to\n",
    "\\begin{align}\n",
    "\\frac{dy^{(0)}}{dt} &= y^{(1)}(t) \\\\\n",
    "\\frac{dy^{(1)}}{dt} &= m^{-1}[F_\\text{ext}(y^{(0)}, t) - k y^{(0)}]\n",
    "\\end{align}"
   ]
  },
  {
   "cell_type": "markdown",
   "metadata": {
    "slideshow": {
     "slide_type": "subslide"
    }
   },
   "source": [
    "Force (or derivative) function $\\mathbf{f}$ and initial conditions:\n",
    "\\begin{alignat}{3}\n",
    "f^{(0)}(t, \\mathbf{y}) &= y^{(1)},\n",
    "    &\\quad y^{(0)}(0) &= x_0,\\\\\n",
    "f^{(1)}(t, \\mathbf{y}) &=  m^{-1}[F_\\text{ext}(y^{(0)}, t) - k y^{(0)}],\n",
    "    &\\quad y^{(1)}(0) &= v_0.\n",
    "\\end{alignat}"
   ]
  },
  {
   "cell_type": "markdown",
   "metadata": {
    "slideshow": {
     "slide_type": "subslide"
    }
   },
   "source": [
    "### Euler's rule (standard form)\n",
    "Given the $n$-dimensional vectors from the ODE standard form\n",
    "$$\n",
    "\\frac{d\\mathbf{y}}{dt} = \\mathbf{f}(t, \\mathbf{y})\n",
    "$$\n",
    "the **Euler rule** amounts to\n",
    "\n",
    "\\begin{align}\n",
    "\\mathbf{f}(t, \\mathbf{y}) = \\frac{d\\mathbf{y}(t)}{dt} &\\approx \\frac{\\mathbf{y}(t_{n+1}) - \\mathbf{y}(t_n)}{h}\\\\\n",
    "\\mathbf{y}_{n+1} &\\approx \\mathbf{y}_n + h \\mathbf{f}(t_n, \\mathbf{y}_n) \\quad \\text{with} \\quad \\mathbf{y}_n := \\mathbf{y}(t_n)\n",
    "\\end{align}"
   ]
  },
  {
   "cell_type": "markdown",
   "metadata": {
    "slideshow": {
     "slide_type": "slide"
    }
   },
   "source": [
    "## Problem: Numerically integrate the 1D harmonic oscillator with Euler\n",
    "\\begin{alignat}{3}\n",
    "f^{(0)}(t, \\mathbf{y}) &= y^{(1)},\n",
    "    &\\quad y^{(0)}(0) &= x_0,\\\\\n",
    "f^{(1)}(t, \\mathbf{y}) &=   - \\frac{k}{m} y^{(0)},\n",
    "    &\\quad y^{(1)}(0) &= v_0.\n",
    "\\end{alignat}\n",
    "with $k=1$; $x_0 = 0$ and $v_0 = +1$."
   ]
  },
  {
   "cell_type": "markdown",
   "metadata": {},
   "source": [
    "Complete the code below; `None` needs to be replaced with appropriate code. Follow the comments."
   ]
  },
  {
   "cell_type": "code",
   "execution_count": 40,
   "metadata": {
    "collapsed": false
   },
   "outputs": [
    {
     "data": {
      "text/plain": [
       "[<matplotlib.lines.Line2D at 0x10d556f28>]"
      ]
     },
     "execution_count": 40,
     "metadata": {},
     "output_type": "execute_result"
    },
    {
     "data": {
      "image/png": "[encoded data removed]",
      "text/plain": [
       "<matplotlib.figure.Figure at 0x10d4fcf60>"
      ]
     },
     "metadata": {},
     "output_type": "display_data"
    }
   ],
   "source": [
    "import numpy as np\n",
    "\n",
    "def F1(x, k=1):\n",
    "    \"\"\"Harmonic force\"\"\"\n",
    "    # COMPLETE THE CODE\n",
    "    return -k*x\n",
    "\n",
    "def f_harmonic(t, y, k=1, m=1):\n",
    "    \"\"\"Force vector in standard ODE form (n=2)\"\"\"\n",
    "    return np.array([y[1], F1(y[0], k=k)/m])\n",
    "\n",
    "t_max = 100\n",
    "h = 0.01\n",
    "Nsteps = t_max/h\n",
    "t_range = h * np.arange(Nsteps)\n",
    "x = np.empty_like(t_range)\n",
    "\n",
    "y = np.zeros(2)\n",
    "yprev = np.zeros_like(y)\n",
    "\n",
    "# initial conditions\n",
    "x0, v0 = 0.0, 1.0\n",
    "# SET THE INITIAL CONDITIONS HERE\n",
    "yprev[:] = x0, v0\n",
    "\n",
    "for i, t in enumerate(t_range):\n",
    "    # store position that corresponds to time t_i\n",
    "    x[i] = yprev[0]\n",
    "    # Euler integrator\n",
    "    y = yprev + (F1(x[i]) * h)\n",
    "    yprev[:] = y\n",
    "\n",
    "plt.plot(t_range, x)"
   ]
  },
  {
   "cell_type": "markdown",
   "metadata": {},
   "source": [
    "Improve your code by making the Euler integrator a function `euler()`:"
   ]
  },
  {
   "cell_type": "code",
   "execution_count": null,
   "metadata": {
    "collapsed": false
   },
   "outputs": [],
   "source": [
    "import numpy as np\n",
    "\n",
    "def F1(x, k=1):\n",
    "    \"\"\"Harmonic force\"\"\"\n",
    "    # COMPLETE THE CODE\n",
    "    return None\n",
    "\n",
    "def f_harmonic(t, y, k=1, m=1):\n",
    "    \"\"\"Force vector in standard ODE form (n=2)\"\"\"\n",
    "    return np.array([y[1], F1(y[0], k=k)/m])\n",
    "\n",
    "def euler(y, f, t, h=0.01):\n",
    "    \"\"\"Euler integrator.\n",
    "    \n",
    "    Returns new y at t+h.\n",
    "    \"\"\"\n",
    "    # COMPLETE THE CODE\n",
    "    return None\n",
    "\n",
    "\n",
    "Nsteps = 10000\n",
    "t_range = h * np.arange(Nsteps)\n",
    "x = np.empty_like(t_range)\n",
    "\n",
    "y = np.zeros(2)\n",
    "\n",
    "# initial conditions\n",
    "x0, v0 = 0.0, 1.0\n",
    "# COMPLETE THE CODE: SET INITIAL CONDITIONS\n",
    "y[:] = None, None\n",
    "\n",
    "for i, t in enumerate(t_range):\n",
    "    # store position that corresponds to time t_i\n",
    "    x[i] = y[0]\n",
    "    # Euler integrator\n",
    "    y[:] = euler(y, f_harmonic, t, h=0.01)\n",
    "    \n",
    "plt.plot(t_range, x)"
   ]
  },
  {
   "cell_type": "code",
   "execution_count": null,
   "metadata": {
    "collapsed": false
   },
   "outputs": [],
   "source": []
  }
 ],
 "metadata": {
  "kernelspec": {
   "display_name": "Python 3",
   "language": "python",
   "name": "python3"
  },
  "language_info": {
   "codemirror_mode": {
    "name": "ipython",
    "version": 3
   },
   "file_extension": ".py",
   "mimetype": "text/x-python",
   "name": "python",
   "nbconvert_exporter": "python",
   "pygments_lexer": "ipython3",
   "version": "3.5.1"
  }
 },
 "nbformat": 4,
 "nbformat_minor": 0
}
